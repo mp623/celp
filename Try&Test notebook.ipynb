{
 "cells": [
  {
   "cell_type": "markdown",
   "metadata": {},
   "source": [
    "# Dit hebben we gebruikt om vooral overzichtelijk dingen te kunnen proberen en hebben we voor de zekerheid toegevoegd"
   ]
  },
  {
   "cell_type": "code",
   "execution_count": 1,
   "metadata": {},
   "outputs": [],
   "source": [
    "# %load data.py\n",
    "\n",
    "import pandas as pd\n",
    "\n",
    "\n",
    "\"\"\"\n",
    "This file loads the data from the data directory and shows you how.\n",
    "Feel free to change the contents of this file!\n",
    "Do ensure these functions remain functional:\n",
    "    - get_business(city, business_id)\n",
    "    - get_reviews(city, business_id=None, user_id=None, n=10)\n",
    "    - get_user(username)\n",
    "\"\"\"\n",
    "\n",
    "import os\n",
    "import json\n",
    "import random\n",
    "\n",
    "DATA_DIR = \"data\"\n",
    "\n",
    "\n",
    "def load_cities():\n",
    "    \"\"\"\n",
    "    Finds all cities (all directory names) in ./data\n",
    "    Returns a list of city names\n",
    "    \"\"\"\n",
    "    return os.listdir(DATA_DIR)\n",
    "\n",
    "\n",
    "def load(cities, data_filename):\n",
    "    \"\"\"\n",
    "    Given a list of city names,\n",
    "        for each city extract all data from ./data/<city>/<data_filename>.json\n",
    "    Returns a dictionary of the form:\n",
    "        {\n",
    "            <city1>: [<entry1>, <entry2>, ...],\n",
    "            <city2>: [<entry1>, <entry2>, ...],\n",
    "            ...\n",
    "        }\n",
    "    \"\"\"\n",
    "    data = {}\n",
    "    for city in cities:\n",
    "        city_data = []\n",
    "        with open(f\"{DATA_DIR}/{city}/{data_filename}.json\", \"r\") as f:\n",
    "            for line in f:\n",
    "                city_data.append(json.loads(line))\n",
    "        data[city] = city_data\n",
    "    return data\n",
    "\n",
    "\n",
    "def get_business(city, business_id):\n",
    "    \"\"\"\n",
    "    Given a city name and a business id, return that business's data.\n",
    "    Returns a dictionary of the form:\n",
    "        {\n",
    "            name:str,\n",
    "            business_id:str,\n",
    "            stars:str,\n",
    "            ...\n",
    "        }\n",
    "    \"\"\"\n",
    "    for business in BUSINESSES[city]:\n",
    "        if business[\"business_id\"] == business_id:\n",
    "            return business\n",
    "    raise IndexError(f\"invalid business_id {business_id}\")\n",
    "\n",
    "\n",
    "def get_reviews(city, business_id=None, user_id=None, n=10):\n",
    "    \"\"\"\n",
    "    Given a city name and optionally a business id and/or auser id,\n",
    "    return n reviews for that business/user combo in that city.\n",
    "    Returns a dictionary of the form:\n",
    "        {\n",
    "            text:str,\n",
    "            stars:str,\n",
    "            ...\n",
    "        }\n",
    "    \"\"\"\n",
    "    def should_keep(review):\n",
    "        if business_id and review[\"business_id\"] != business_id:\n",
    "            return False\n",
    "        if user_id and review[\"user_id\"] != user_id:\n",
    "            return False\n",
    "        return True\n",
    "\n",
    "    reviews = REVIEWS[city]\n",
    "    reviews = [review for review in reviews if should_keep(review)]\n",
    "    return random.sample(reviews, min(n, len(reviews)))\n",
    "\n",
    "\n",
    "def get_user(username):\n",
    "    \"\"\"\n",
    "    Get a user by its username\n",
    "    Returns a dictionary of the form:\n",
    "        {\n",
    "            user_id:str,\n",
    "            name:str,\n",
    "            ...\n",
    "        }\n",
    "    \"\"\"\n",
    "    for city, users in USERS.items():\n",
    "        for user in users:\n",
    "            if user[\"name\"] == username:\n",
    "                return user\n",
    "    raise IndexError(f\"invalid username {username}\")\n",
    "\n",
    "\n",
    "CITIES = load_cities()\n",
    "CITIES = [city for city in CITIES if city != '.DS_Store']\n",
    "USERS = load(CITIES, \"user\")\n",
    "BUSINESSES = load(CITIES, \"business\")\n",
    "REVIEWS = load(CITIES, \"review\")\n",
    "TIPS = load(CITIES, \"tip\")\n",
    "CHECKINS = load(CITIES, \"checkin\") "
   ]
  },
  {
   "cell_type": "code",
   "execution_count": 2,
   "metadata": {},
   "outputs": [],
   "source": [
    "def extract_genres(movies):\n",
    "    \"\"\"Create an unfolded genre dataframe. Unpacks genres seprated by a '|' into seperate rows.\n",
    "\n",
    "    Arguments:\n",
    "    movies -- a dataFrame containing at least the columns 'movieId' and 'genres' \n",
    "              where genres are seprated by '|'\n",
    "    \"\"\"\n",
    "    genres_m = movies.apply(lambda row: pd.Series([row['business_id']] + row['categories'].lower().split(\", \")), axis=1)\n",
    "    stack_genres = genres_m.set_index(0).stack()\n",
    "    df_stack_genres = stack_genres.to_frame()\n",
    "    df_stack_genres['business_id'] = stack_genres.index.droplevel(1)\n",
    "    df_stack_genres.columns = ['categorie', 'business_id']\n",
    "    return df_stack_genres.reset_index()[['business_id', 'categorie']]\n",
    "\n",
    "\n"
   ]
  },
  {
   "cell_type": "code",
   "execution_count": 3,
   "metadata": {},
   "outputs": [],
   "source": [
    "def la_place(frame):\n",
    "    \n",
    "    \n",
    "    # We creeren een score per uniek business ID\n",
    "    returnframe = frame[\"business_id\"].unique()\n",
    "    \n",
    "    business_ratings = [] \n",
    "    \n",
    "    # sla de business id op met hoe vaak elke score bij deze business voorkomt.\n",
    "    for row in frame.groupby('business_id'):\n",
    "        business_ratings.append((row[0], row[1][\"stars\"].value_counts()))\n",
    "    \n",
    "    \n",
    "    finalscore = []\n",
    "    \n",
    "    # voor elke business\n",
    "    \n",
    "    for item in range(len(business_ratings)):\n",
    "    \n",
    "        scores = []\n",
    "        \n",
    "        # bereken voor elke value in de ratings van de business (5, 4, 3, 2, 1) zijn individuele la place\n",
    "        \n",
    "        for value in business_ratings[item][1].index:\n",
    "\n",
    "            probability = value*((business_ratings[item][1][value]+1)/(sum(business_ratings[item][1])+5))\n",
    "            scores.append(probability)\n",
    "        \n",
    "        # de score voor het bedrijf is dus deze losse termen gesommeerd. \n",
    "        \n",
    "        score = sum(scores)\n",
    "\n",
    "        # sla de business met zijn la place score op.  \n",
    "        finalscore.append([business_ratings[item][0], score])\n",
    "    \n",
    "    df_laplace = pd.DataFrame(finalscore)\n",
    "    df_laplace.columns = ['business_id', 'lapscore']\n",
    "    return df_laplace"
   ]
  },
  {
   "cell_type": "code",
   "execution_count": 29,
   "metadata": {},
   "outputs": [],
   "source": [
    "\n",
    "def pivot_genres(df):\n",
    "    \"\"\"Create a one-hot encoded matrix for genres.\n",
    "    \n",
    "    Arguments:\n",
    "    df -- a dataFrame containing at least the columns 'movieId' and 'genre'\n",
    "    \n",
    "    Output:\n",
    "    a matrix containing '0' or '1' in each cell.\n",
    "    1: the movie has the genre\n",
    "    0: the movie does not have the genre\n",
    "    \"\"\"\n",
    "    return df.pivot_table(index = 'business_id', columns = 'categorie', aggfunc = 'size', fill_value=0)\n"
   ]
  },
  {
   "cell_type": "code",
   "execution_count": null,
   "metadata": {},
   "outputs": [],
   "source": [
    "def select_neighborhood(similarity_matrix, utility_matrix, target_business):\n",
    "    \"\"\"selects all items with similarity > 0\"\"\"\n",
    "    similar = list(similarity_matrix[similarity_matrix[target_business] > 0].index)\n",
    "    return similarity_matrix[target_business]\n",
    "\n",
    "\n",
    "bus = 'zh_AIXt_wELJJLPfTmJcPw'\n",
    "\n",
    "\n",
    "\n",
    "topneighborhood = select_neighborhood(df_similarity_categories, df_bus_utility, bus).drop(bus).sort_values(ascending=False)[:10].index\n",
    "\n",
    "gesorteerde_topneighborhood = list(df_bus[df_bus['business_id'].isin(topneighborhood)].sort_values(by = 'stars', ascending = False).transpose().to_dict().values())\n"
   ]
  },
  {
   "cell_type": "markdown",
   "metadata": {},
   "source": [
    "# Deel voor het testen van ons systeem"
   ]
  },
  {
   "cell_type": "code",
   "execution_count": 31,
   "metadata": {},
   "outputs": [],
   "source": [
    "import sklearn.metrics.pairwise as pw\n",
    "import pandas as pd\n",
    "import numpy as np"
   ]
  },
  {
   "cell_type": "code",
   "execution_count": 32,
   "metadata": {},
   "outputs": [],
   "source": [
    "def number_of_movies(ratings):\n",
    "    \"\"\"Determine the number of unique movie id's in the data.\n",
    "    \n",
    "    Arguments:\n",
    "    ratings -- a dataFrame containing a column 'movieId'\n",
    "    \"\"\"\n",
    "    return len(ratings['movieId'].unique())\n",
    "\n",
    "def number_of_users(ratings):\n",
    "    \"\"\"Determine the number of unique user id's in the data.    \n",
    "    \n",
    "    Arguments:\n",
    "    ratings -- a dataFrame containing a column 'userId'\n",
    "    \"\"\"\n",
    "    return len(ratings['userId'].nique())\n",
    "\n",
    "def number_of_ratings(ratings):\n",
    "    \"\"\"Count the number of ratings of a dataset.\n",
    "    \n",
    "    Arguments:\n",
    "    ratings -- a dataFrame.\n",
    "    \"\"\"\n",
    "    return ratings.shape[0]\n",
    "\n",
    "def rating_density(ratings):\n",
    "    \"\"\"Compute the ratings given a dataset.\n",
    "    \n",
    "    Arguments:\n",
    "    ratings -- a dataFrame contasining the columns 'userId' and 'movieId'\n",
    "    \"\"\"\n",
    "    return number_of_ratings(ratings) / (number_of_movies(ratings) * number_of_users(ratings))\n",
    "\n",
    "def split_data(data, d = 0.75):\n",
    "    \"\"\"Split data in a training and test set.\n",
    "    \n",
    "    Arguments:\n",
    "    data -- any dataFrame.\n",
    "    d    -- the fraction of data in the training set\n",
    "    \"\"\"\n",
    "    np.random.seed(seed=5)\n",
    "    mask_test = np.random.rand(data.shape[0]) < d\n",
    "    return data[mask_test], data[~mask_test]"
   ]
  },
  {
   "cell_type": "code",
   "execution_count": 33,
   "metadata": {},
   "outputs": [],
   "source": [
    "list_of_frames = []\n",
    "for city in REVIEWS:\n",
    "    frame = pd.DataFrame(REVIEWS[city])\n",
    "    list_of_frames.append(frame)\n",
    "\n",
    "df_totaal_rev = pd.concat(list_of_frames)\n",
    "df_new = df_totaal_rev.groupby(['user_id']).size()\n",
    "df_new = df_new[df_new > 10]\n",
    "lijst_veel_reviews_users = list(df_new.index)\n",
    "df_met_veel_reviews = df_totaal_rev[df_totaal_rev['user_id'].isin(lijst_veel_reviews_users)]\n",
    "datapath = \"ml-latest-small\"\n",
    "\n",
    "df_werkbaar = df_met_veel_reviews.drop(columns=['cool', 'funny', 'useful','text','review_id','date'])\n",
    "df_werkbaar = df_werkbaar.drop_duplicates(subset=['business_id', 'user_id'], keep='first')\n",
    "\n",
    "df_ratings_training, df_ratings_test = split_data(df_werkbaar, d=0.9)"
   ]
  },
  {
   "cell_type": "code",
   "execution_count": 34,
   "metadata": {},
   "outputs": [],
   "source": [
    "def pivot_ratings(df):\n",
    "    \"\"\"Creates a utility matrix for user ratings for movies\n",
    "    \n",
    "    Arguments:\n",
    "    df -- a dataFrame containing at least the columns 'movieId' and 'genres'\n",
    "    \n",
    "    Output:\n",
    "    a matrix containing a rating in each cell. np.nan means that the user did not rate the movie\n",
    "    \"\"\"\n",
    "    return df.pivot(values='stars', columns='user_id', index='business_id')\n",
    "\n",
    "def create_similarity_matrix_cosine(matrix):\n",
    "    \"\"\"Creates a adjusted(/soft) cosine similarity matrix.\n",
    "    \n",
    "    Arguments:\n",
    "    matrix -- a utility matrix\n",
    "    \n",
    "    Notes:\n",
    "    Missing values are set to 0. This is technically not a 100% correct, but is more convenient \n",
    "    for computation and does not have a big effect on the outcome.\n",
    "    \"\"\"\n",
    "    mc_matrix = matrix - matrix.mean(axis = 0)\n",
    "    return pd.DataFrame(pw.cosine_similarity(mc_matrix.fillna(0)), index = matrix.index, columns = matrix.index)"
   ]
  },
  {
   "cell_type": "code",
   "execution_count": 35,
   "metadata": {},
   "outputs": [],
   "source": [
    "df_utility_ratings = pivot_ratings(df_ratings_training)\n",
    "df_similarity_ratings = create_similarity_matrix_cosine(df_utility_ratings)"
   ]
  },
  {
   "cell_type": "code",
   "execution_count": 36,
   "metadata": {},
   "outputs": [],
   "source": [
    "def predict_ratings(similarity, utility, to_predict):\n",
    "    \"\"\"Predicts the predicted rating for the input test data.\n",
    "    \n",
    "    Arguments:\n",
    "    similarity -- a dataFrame that describes the similarity between items\n",
    "    utility    -- a dataFrame that contains a rating for each user (columns) and each movie (rows). \n",
    "                  If a user did not rate an item the value np.nan is assumed. \n",
    "    to_predict -- A dataFrame containing at least the columns movieId and userId for which to do the predictions\n",
    "    \"\"\"\n",
    "    # copy input (don't overwrite)\n",
    "    ratings_test_c = to_predict.copy()\n",
    "    # apply prediction to each row\n",
    "    ratings_test_c['predicted rating'] = to_predict.apply(lambda row: predict_ids(similarity, utility, row['user_id'], row['business_id']), axis=1)\n",
    "    return ratings_test_c\n",
    "\n",
    "### Helper functions for predict_ratings_item_based ###\n",
    "\n",
    "def predict_ids(similarity, utility, userId, itemId):\n",
    "    # select right series from matrices and compute\n",
    "    if userId in utility.columns and itemId in similarity.index:\n",
    "        return predict_vectors(utility.loc[:,userId], similarity[itemId])\n",
    "    return 0\n",
    "\n",
    "def predict_vectors(user_ratings, similarities):\n",
    "    # select only movies actually rated by user\n",
    "    relevant_ratings = user_ratings.dropna()\n",
    "    \n",
    "    # select corresponding similairties\n",
    "    similarities_s = similarities[relevant_ratings.index]\n",
    "    \n",
    "    # select neighborhood\n",
    "    similarities_s = similarities_s[similarities_s > 0.0]\n",
    "    relevant_ratings = relevant_ratings[similarities_s.index]\n",
    "    \n",
    "    # if there's nothing left return a prediction of 0\n",
    "    norm = similarities_s.sum()\n",
    "    if(norm == 0):\n",
    "        return 0\n",
    "    \n",
    "    # compute a weighted average (i.e. neighborhood is all) \n",
    "    return np.dot(relevant_ratings, similarities_s)/norm"
   ]
  },
  {
   "cell_type": "code",
   "execution_count": 37,
   "metadata": {},
   "outputs": [],
   "source": [
    "def mse(predicted_ratings):\n",
    "    \"\"\"Computes the mean square error between actual ratings and predicted ratings\n",
    "    \n",
    "    Arguments:\n",
    "    predicted_ratings -- a dataFrame containing the columns rating and predicted rating\n",
    "    \"\"\"\n",
    "    diff = predicted_ratings['stars'] - predicted_ratings['predicted rating']\n",
    "    return (diff**2).mean()"
   ]
  },
  {
   "cell_type": "markdown",
   "metadata": {},
   "source": [
    "# Utility matrix maken op basis van genres"
   ]
  },
  {
   "cell_type": "code",
   "execution_count": 38,
   "metadata": {},
   "outputs": [],
   "source": [
    "list_of_frames_businesses = []\n",
    "for city in BUSINESSES:\n",
    "    frame = pd.DataFrame(BUSINESSES[city])\n",
    "    list_of_frames_businesses.append(frame)\n",
    "\n",
    "df_totaal_bus = pd.concat(list_of_frames_businesses)\n",
    "df_totaal_bus = df_totaal_bus[df_totaal_bus['business_id'].isin(list(df_werkbaar['business_id'].values))]\n",
    "df_totaal_bus.fillna(value='Not Available', inplace=True)\n",
    "df_bus_for_utility = extract_genres(df_totaal_bus)\n",
    "df_bus_for_utility_complete = pivot_genres(df_bus_for_utility)"
   ]
  },
  {
   "cell_type": "code",
   "execution_count": 39,
   "metadata": {},
   "outputs": [],
   "source": [
    "import numpy as np\n",
    "def create_similarity_matrix_categories(matrix):\n",
    "    \"\"\"Create a  \"\"\"\n",
    "    npu = matrix.values\n",
    "    m1 = npu @ npu.T\n",
    "    diag = np.diag(m1)\n",
    "    m2 = m1 / diag\n",
    "    m3 = np.minimum(m2, m2.T)\n",
    "    return pd.DataFrame(m3, index = matrix.index, columns = matrix.index)"
   ]
  },
  {
   "cell_type": "code",
   "execution_count": 40,
   "metadata": {},
   "outputs": [],
   "source": [
    "df_predicted_cf_item_based = predict_ratings(df_similarity_ratings, df_utility_ratings, df_ratings_test)"
   ]
  },
  {
   "cell_type": "code",
   "execution_count": 41,
   "metadata": {},
   "outputs": [],
   "source": [
    "df_predicted_content_based = create_similarity_matrix_categories(df_bus_for_utility_complete)"
   ]
  },
  {
   "cell_type": "code",
   "execution_count": 42,
   "metadata": {},
   "outputs": [
    {
     "name": "stdout",
     "output_type": "stream",
     "text": [
      "mse for random prediction: 4.06\n"
     ]
    }
   ],
   "source": [
    "from random import randrange\n",
    "df_ratings_random = df_werkbaar.copy()\n",
    "df_ratings_random['predicted rating'] = [randrange(1,5) for i in range(len(df_werkbaar))]\n",
    "mse_random = mse(df_ratings_random)\n",
    "print(f'mse for random prediction: {mse_random:.2f}')"
   ]
  },
  {
   "cell_type": "code",
   "execution_count": 43,
   "metadata": {},
   "outputs": [
    {
     "name": "stdout",
     "output_type": "stream",
     "text": [
      "mse for item based collaborative filtering 5.02\n"
     ]
    }
   ],
   "source": [
    "mse_cf_item_based = mse(df_predicted_cf_item_based)\n",
    "print(f'mse for item based collaborative filtering {mse_cf_item_based:.2f}')"
   ]
  },
  {
   "cell_type": "code",
   "execution_count": 44,
   "metadata": {},
   "outputs": [
    {
     "name": "stdout",
     "output_type": "stream",
     "text": [
      "mse for content based filtering: 2.93\n"
     ]
    }
   ],
   "source": [
    "df_predicted_on_genre = predict_ratings(df_predicted_content_based,df_utility_ratings, df_ratings_test)\n",
    "mse_genres =  mse(df_predicted_on_genre)\n",
    "print(f'mse for content based filtering: {mse_genres:.2f}')"
   ]
  },
  {
   "cell_type": "code",
   "execution_count": null,
   "metadata": {},
   "outputs": [],
   "source": []
  },
  {
   "cell_type": "code",
   "execution_count": null,
   "metadata": {},
   "outputs": [],
   "source": []
  }
 ],
 "metadata": {
  "kernelspec": {
   "display_name": "Python 3",
   "language": "python",
   "name": "python3"
  },
  "language_info": {
   "codemirror_mode": {
    "name": "ipython",
    "version": 3
   },
   "file_extension": ".py",
   "mimetype": "text/x-python",
   "name": "python",
   "nbconvert_exporter": "python",
   "pygments_lexer": "ipython3",
   "version": "3.6.2"
  }
 },
 "nbformat": 4,
 "nbformat_minor": 2
}
